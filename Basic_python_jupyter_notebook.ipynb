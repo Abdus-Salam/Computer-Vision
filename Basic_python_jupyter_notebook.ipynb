{
 "cells": [
  {
   "cell_type": "markdown",
   "metadata": {},
   "source": [
    "# Hello World"
   ]
  },
  {
   "cell_type": "code",
   "execution_count": 1,
   "metadata": {
    "collapsed": true
   },
   "outputs": [],
   "source": [
    "import emoji\n",
    "import random\n",
    "import sys\n",
    "import time\n",
    "import turtle\n",
    "import re\n",
    "from urllib.request import urlopen\n",
    "from bs4 import BeautifulSoup\n",
    "from matplotlib import pyplot as plt"
   ]
  },
  {
   "cell_type": "code",
   "execution_count": 2,
   "metadata": {
    "collapsed": false
   },
   "outputs": [
    {
     "name": "stdout",
     "output_type": "stream",
     "text": [
      "Hello World!\n"
     ]
    }
   ],
   "source": [
    "#Hello World\n",
    "print(\"Hello World!\")"
   ]
  },
  {
   "cell_type": "markdown",
   "metadata": {},
   "source": [
    "# Variables"
   ]
  },
  {
   "cell_type": "code",
   "execution_count": 21,
   "metadata": {
    "collapsed": false,
    "scrolled": true
   },
   "outputs": [
    {
     "name": "stdout",
     "output_type": "stream",
     "text": [
      "Abdus Salam\n",
      "Abdus Salam\n",
      "Abdus Salam\n",
      "Salam\n",
      "1 1 1\n"
     ]
    }
   ],
   "source": [
    "#single variables\n",
    "first_name = \"Abdus\"\n",
    "last_name = \"Salam\"\n",
    "\n",
    "print(first_name, last_name)\n",
    "\n",
    "first_name, last_name = \"Abdus\", \"Salam\"\n",
    "\n",
    "print(first_name, last_name)\n",
    "\n",
    "name = \"Abdus\" + \" \" + \"Salam\"\n",
    "print(name)\n",
    "print(name[6 : 11])\n",
    "#multiple assignment\n",
    "a = b = c = 1\n",
    "\n",
    "print(a, b, c)"
   ]
  },
  {
   "cell_type": "markdown",
   "metadata": {},
   "source": [
    "# Lists"
   ]
  },
  {
   "cell_type": "code",
   "execution_count": 52,
   "metadata": {
    "collapsed": false
   },
   "outputs": [
    {
     "name": "stdout",
     "output_type": "stream",
     "text": [
      "egg, apples, vegetables, milk\n",
      "egg chocolate\n",
      "[1, 2, 3, 22, 23, 24]\n",
      "Length : 6\n",
      "Max Value :  24\n",
      "Min Value :  1\n",
      "['egg', 'apples', 'chocolate', 'milk', 'chocolate']\n",
      "2\n"
     ]
    }
   ],
   "source": [
    "shopping_list = \"egg, apples, vegetables, milk\"\n",
    "\n",
    "print(shopping_list)\n",
    "\n",
    "shopping_list = [\"egg\", \"apples\", \"vegetables\", \"milk\"]\n",
    "shopping_list[2] = \"chocolate\"\n",
    "\n",
    "#del shopping_list[2] #delete the 2nd index value\n",
    "\n",
    "print(shopping_list[0], shopping_list[2])\n",
    "\n",
    "array1 = [1, 2, 3]\n",
    "array2 = [22, 23, 24]\n",
    "array3 = array1 + array2\n",
    "\n",
    "print(array3)\n",
    "print('Length :', len(array3))\n",
    "print('Max Value : ', max(array3))\n",
    "print('Min Value : ', min(array3))\n",
    "\n",
    "shopping_list.append(\"chocolate\")\n",
    "print(shopping_list)\n",
    "print(shopping_list.count(\"chocolate\")) # 2 chocolate is found"
   ]
  },
  {
   "cell_type": "markdown",
   "metadata": {},
   "source": [
    "# Dictionary"
   ]
  },
  {
   "cell_type": "code",
   "execution_count": 2,
   "metadata": {
    "collapsed": false
   },
   "outputs": [
    {
     "name": "stdout",
     "output_type": "stream",
     "text": [
      "1\n",
      "dict_keys(['Ummay Salma', 'Mehadi Hasan', 'Abdus Salam'])\n"
     ]
    }
   ],
   "source": [
    "students = {\"Abdus Salam\": 1, \"Mehadi Hasan\": 2, \"Ummay Salma\": 3}\n",
    "\n",
    "print(students[\"Abdus Salam\"]) #key and value\n",
    "#students.clear()\n",
    "#print(students)\n",
    "\n",
    "print(students.keys())\n",
    "#students.update(students2)"
   ]
  },
  {
   "cell_type": "markdown",
   "metadata": {},
   "source": [
    "# Tuples"
   ]
  },
  {
   "cell_type": "code",
   "execution_count": 67,
   "metadata": {
    "collapsed": false
   },
   "outputs": [
    {
     "name": "stdout",
     "output_type": "stream",
     "text": [
      "Abdus Salam\n"
     ]
    }
   ],
   "source": [
    "#Tuples are immutable, not changed the value\n",
    "\n",
    "list = (\"Abdus Salam\", \"Alamgir Hossain\")\n",
    "print(list[0])"
   ]
  },
  {
   "cell_type": "markdown",
   "metadata": {},
   "source": [
    "# Conditional Statement"
   ]
  },
  {
   "cell_type": "code",
   "execution_count": 76,
   "metadata": {
    "collapsed": false
   },
   "outputs": [
    {
     "name": "stdout",
     "output_type": "stream",
     "text": [
      "Yes\n",
      "Yes2\n"
     ]
    },
    {
     "data": {
      "text/plain": [
       "False"
      ]
     },
     "execution_count": 76,
     "metadata": {},
     "output_type": "execute_result"
    }
   ],
   "source": [
    "x = 24\n",
    "\n",
    "if(x == 24) :\n",
    "    print(\"Yes\")\n",
    "else :\n",
    "    print(\"No\")\n",
    "    \n",
    "    \n",
    "if(x > 24) :\n",
    "    print(\"Yes\")\n",
    "elif x == 24 :\n",
    "    print(\"Yes2\")\n",
    "else :\n",
    "    print(\"No\")\n",
    "    \n",
    "5 < 4 "
   ]
  },
  {
   "cell_type": "markdown",
   "metadata": {},
   "source": [
    "# Loops"
   ]
  },
  {
   "cell_type": "code",
   "execution_count": 103,
   "metadata": {
    "collapsed": false
   },
   "outputs": [
    {
     "name": "stdout",
     "output_type": "stream",
     "text": [
      "for Loop : \n",
      "======================\n",
      "0\n",
      "1\n",
      "2\n",
      "3\n",
      "4\n",
      "1\n",
      "6\n",
      "egg\n",
      "apples\n",
      "chocolate\n",
      "milk\n",
      "chocolate\n",
      "\n",
      "while Loop : \n",
      "======================\n",
      "5\n",
      "6\n",
      "7\n",
      "8\n",
      "9\n",
      "======================\n",
      "2\n",
      "3\n",
      "2\n",
      "3\n",
      "2\n",
      "3\n",
      "2\n",
      "3\n",
      "2\n",
      "3\n"
     ]
    }
   ],
   "source": [
    "#for loops\n",
    "print(\"for Loop : \")\n",
    "print(\"======================\")\n",
    "for i in range(0, 5) :\n",
    "    print(i)\n",
    "    \n",
    "    \n",
    "for i in (1, 6) :\n",
    "    print(i)\n",
    "    \n",
    "for name in shopping_list :\n",
    "    print(name)\n",
    "    \n",
    "    \n",
    "#while loops\n",
    "print(\"\\nwhile Loop : \")\n",
    "print(\"======================\")\n",
    "counter = 5\n",
    "while counter < 10 :\n",
    "    print(counter)\n",
    "    counter = counter + 1\n",
    "    \n",
    "print(\"======================\")\n",
    "for i in range(0, 5) :\n",
    "    for j in range(2, 4) : #4 is excluding\n",
    "        print(j)"
   ]
  },
  {
   "cell_type": "markdown",
   "metadata": {},
   "source": [
    "# try catch"
   ]
  },
  {
   "cell_type": "code",
   "execution_count": 107,
   "metadata": {
    "collapsed": false
   },
   "outputs": [],
   "source": [
    "age = 19\n",
    "\n",
    "try :\n",
    "    if(age == 18) :\n",
    "        print(\"Granted\")\n",
    "except :\n",
    "    print(\"Not Granted\")"
   ]
  },
  {
   "cell_type": "markdown",
   "metadata": {},
   "source": [
    "# Functions"
   ]
  },
  {
   "cell_type": "code",
   "execution_count": 117,
   "metadata": {
    "collapsed": false
   },
   "outputs": [
    {
     "name": "stdout",
     "output_type": "stream",
     "text": [
      "Hi\n",
      "Hi\n",
      "Hi\n",
      "Hi\n",
      "Hi\n",
      "Hello World!\n"
     ]
    }
   ],
   "source": [
    "def fun() :\n",
    "    print(\"Hi\")\n",
    "    \n",
    "def fun2() :\n",
    "    return 2\n",
    "\n",
    "for i in range(0, 5) :\n",
    "    fun()\n",
    "    \n",
    "fun2()\n",
    "\n",
    "#0 and None are false otherwise true\n",
    "bool(0)\n",
    "bool(None)\n",
    "\n",
    "dir([\"hell\"])\n",
    "\n",
    "eval(\"print('Hello World!')\")"
   ]
  },
  {
   "cell_type": "markdown",
   "metadata": {},
   "source": [
    "# input output"
   ]
  },
  {
   "cell_type": "code",
   "execution_count": 118,
   "metadata": {
    "collapsed": false
   },
   "outputs": [
    {
     "name": "stdout",
     "output_type": "stream",
     "text": [
      "Enter the age24\n",
      "24\n"
     ]
    }
   ],
   "source": [
    "x = input(\"Enter the age\")\n",
    "\n",
    "print(x)"
   ]
  },
  {
   "cell_type": "markdown",
   "metadata": {},
   "source": [
    "# Object Oriented Programming"
   ]
  },
  {
   "cell_type": "code",
   "execution_count": 165,
   "metadata": {
    "collapsed": false
   },
   "outputs": [
    {
     "name": "stdout",
     "output_type": "stream",
     "text": [
      "Student name is : Abdus Salam and age is : 25\n",
      "True\n"
     ]
    }
   ],
   "source": [
    "class Students :\n",
    "    \n",
    "    #constructor\n",
    "    def __init__(self, name, age) :\n",
    "        self.name = name\n",
    "        self.age = age\n",
    "       \n",
    "    #functions\n",
    "    def display_student(self) :\n",
    "        return (\"Student name is : \"+ self.name+\" and age is : \" + str(self.age))\n",
    " \n",
    "#create object\n",
    "student = Students(\"Abdus Salam\", 25)\n",
    "#print(student.name)\n",
    "print(student.display_student())\n",
    "\n",
    "print(hasattr(student, \"age\")) #student ক্লাসের মধ্যে age attribute অাছে কিনা?\n",
    "\n",
    "setattr(student, \"grade\", \"A+\")\n",
    "\n",
    "#print(student.grade) # হা হা \n",
    "#getattr(student, \"grade\")\n",
    "#delattr(student, \"grade)"
   ]
  },
  {
   "cell_type": "code",
   "execution_count": 186,
   "metadata": {
    "collapsed": false
   },
   "outputs": [
    {
     "name": "stdout",
     "output_type": "stream",
     "text": [
      "I Love You! 💞\n"
     ]
    }
   ],
   "source": [
    "#print(emoji.emojize('Hi there! :revolving_hearts:'))\n",
    "\n",
    "print(emoji.emojize('I Love You! :revolving_hearts:'))\n",
    "\n",
    "#print(emoji.EMOJI_ALIAS_UNICODE)"
   ]
  },
  {
   "cell_type": "markdown",
   "metadata": {},
   "source": [
    "# Interitance_Concepts"
   ]
  },
  {
   "cell_type": "code",
   "execution_count": 199,
   "metadata": {
    "collapsed": false
   },
   "outputs": [
    {
     "name": "stdout",
     "output_type": "stream",
     "text": [
      "Child class is initialized.\n",
      "Child function is being called.\n",
      "Parent_func is being called.\n",
      "20\n"
     ]
    }
   ],
   "source": [
    "class Parent :\n",
    "    counter = 10\n",
    "    \n",
    "    def __init__(self) :\n",
    "        print(\"Class Initialized.\")\n",
    "        \n",
    "    def parent_function(self) :\n",
    "        print('Parent_func is being called.')\n",
    "        \n",
    "    def set_counter(self, num) :\n",
    "        Parent.counter = num\n",
    "        \n",
    "    def get_counter(self) :\n",
    "        print(str(Parent.counter))\n",
    "        \n",
    "\n",
    "class Child(Parent):\n",
    "    def __init__(self) :\n",
    "        print(\"Child class is initialized.\")\n",
    "        \n",
    "    def child_function(self) :\n",
    "        print(\"Child function is being called.\")\n",
    "    \n",
    "child = Child()\n",
    "child.child_function()\n",
    "child.parent_function()\n",
    "child.set_counter(20)\n",
    "child.get_counter()"
   ]
  },
  {
   "cell_type": "markdown",
   "metadata": {},
   "source": [
    "# Overriding ~polymorphism"
   ]
  },
  {
   "cell_type": "code",
   "execution_count": 202,
   "metadata": {
    "collapsed": false
   },
   "outputs": [
    {
     "name": "stdout",
     "output_type": "stream",
     "text": [
      "This is Child Function\n"
     ]
    }
   ],
   "source": [
    "class Parent :\n",
    "    def func(self) :\n",
    "        print(\"This is Parent Function\")\n",
    "        \n",
    "class Child(Parent) :\n",
    "    def func(self) :\n",
    "        print(\"This is Child Function\")\n",
    "        \n",
    "child = Child()\n",
    "child.func()"
   ]
  },
  {
   "cell_type": "markdown",
   "metadata": {},
   "source": [
    "# Creating a file"
   ]
  },
  {
   "cell_type": "code",
   "execution_count": 225,
   "metadata": {
    "collapsed": false
   },
   "outputs": [
    {
     "name": "stdout",
     "output_type": "stream",
     "text": [
      "\n",
      "0\n",
      "\n"
     ]
    }
   ],
   "source": [
    "file = open(\"hello.txt\", 'r') # r, w, a, a+\n",
    "\n",
    "print(file.read())\n",
    "print(file.tell()) #length\n",
    "#print(file.seek(0, 1))\n",
    "\n",
    "print(file.read())\n",
    "file.close()"
   ]
  },
  {
   "cell_type": "markdown",
   "metadata": {},
   "source": [
    "# random number"
   ]
  },
  {
   "cell_type": "code",
   "execution_count": 244,
   "metadata": {
    "collapsed": false
   },
   "outputs": [
    {
     "name": "stdout",
     "output_type": "stream",
     "text": [
      "chocolate\n"
     ]
    }
   ],
   "source": [
    "#random = random.randint(0, 100)\n",
    "\n",
    "#print(random)  #value between 0 to 100\n",
    "\n",
    "print(random.choice(shopping_list))"
   ]
  },
  {
   "cell_type": "markdown",
   "metadata": {},
   "source": [
    "# sys module"
   ]
  },
  {
   "cell_type": "code",
   "execution_count": 250,
   "metadata": {
    "collapsed": false
   },
   "outputs": [
    {
     "name": "stdout",
     "output_type": "stream",
     "text": [
      "Hello world3.5.2 |Anaconda 4.2.0 (64-bit)| (default, Jul  2 2016, 17:53:06) \n",
      "[GCC 4.4.7 20120313 (Red Hat 4.4.7-1)]\n"
     ]
    }
   ],
   "source": [
    "#input \n",
    "x = sys.stdin.readline()\n",
    "x = sys.stdout.write(\"Hello world\")\n",
    "\n",
    "print(sys.version)"
   ]
  },
  {
   "cell_type": "markdown",
   "metadata": {},
   "source": [
    "# time module"
   ]
  },
  {
   "cell_type": "code",
   "execution_count": 257,
   "metadata": {
    "collapsed": false
   },
   "outputs": [
    {
     "name": "stdout",
     "output_type": "stream",
     "text": [
      "1513578401.3221433\n",
      "Mon Dec 18 12:26:41 2017\n",
      "Sun Dec 15 08:45:12 2000\n",
      "time.struct_time(tm_year=2017, tm_mon=12, tm_mday=18, tm_hour=12, tm_min=26, tm_sec=41, tm_wday=0, tm_yday=352, tm_isdst=0)\n"
     ]
    }
   ],
   "source": [
    "print(time.time())\n",
    "print(time.asctime())\n",
    "\n",
    "tup = (2000, 12, 15, 8, 45, 12, 6, 0, 0)\n",
    "\n",
    "print(time.asctime(tup))\n",
    "\n",
    "print(time.localtime())\n"
   ]
  },
  {
   "cell_type": "markdown",
   "metadata": {},
   "source": [
    "# Turtle module intro"
   ]
  },
  {
   "cell_type": "code",
   "execution_count": null,
   "metadata": {
    "collapsed": false
   },
   "outputs": [],
   "source": [
    "t = turtle.Pen()\n",
    "t.forward(50)\n",
    "t.left(90)\n",
    "t.forward(50)\n",
    "t.left(90)\n",
    "t.forward(50)\n",
    "t.left(90)\n",
    "t.forward(50)\n",
    "\n",
    "t.reset()"
   ]
  },
  {
   "cell_type": "code",
   "execution_count": null,
   "metadata": {
    "collapsed": false
   },
   "outputs": [],
   "source": [
    "t = turtle.Pen()\n",
    "\n",
    "for i in range(0, 8) :\n",
    "    t.forward(50)\n",
    "    t.left(45)\n",
    "    \n",
    "t.reset()\n",
    "\n",
    "for i in range(1, 38) :\n",
    "    t.forward(100)\n",
    "    t.left(175)"
   ]
  },
  {
   "cell_type": "markdown",
   "metadata": {},
   "source": [
    "# re module"
   ]
  },
  {
   "cell_type": "code",
   "execution_count": 290,
   "metadata": {
    "collapsed": false
   },
   "outputs": [
    {
     "name": "stdout",
     "output_type": "stream",
     "text": [
      "<_sre.SRE_Match object; span=(8, 10), match='to'>\n"
     ]
    }
   ],
   "source": [
    "string = \"Welcome to the Hello World!\"\n",
    "\n",
    "print(re.search(\"to\", string))"
   ]
  },
  {
   "cell_type": "markdown",
   "metadata": {
    "collapsed": true
   },
   "source": [
    "# Crawling the Web-Stocks"
   ]
  },
  {
   "cell_type": "code",
   "execution_count": 2,
   "metadata": {
    "collapsed": false
   },
   "outputs": [
    {
     "data": {
      "text/plain": [
       "'If avobe example does not work'"
      ]
     },
     "execution_count": 2,
     "metadata": {},
     "output_type": "execute_result"
    }
   ],
   "source": [
    "url = 'https://facebook.com'\n",
    "\n",
    "# data = urlopen(url).read()\n",
    "\n",
    "# print(data)\n",
    "\n",
    "'''If avobe example does not work'''\n",
    "# with urlopen(url) as conn:\n",
    "#     print(conn.read())"
   ]
  },
  {
   "cell_type": "markdown",
   "metadata": {},
   "source": [
    "# Dictionary using web crawling"
   ]
  },
  {
   "cell_type": "code",
   "execution_count": 32,
   "metadata": {
    "collapsed": false
   },
   "outputs": [
    {
     "name": "stdout",
     "output_type": "stream",
     "text": [
      "Enter your word hldsfldjs\n",
      "Your word isn't in dictionary\n"
     ]
    }
   ],
   "source": [
    "# url = 'http://www.dictionary.com/browse/fun?s=t'\n",
    "\n",
    "try :\n",
    "    url = 'http://www.dictionary.reference.com/browse/'\n",
    "    word = input('Enter your word ')\n",
    "\n",
    "    url = url + word\n",
    "\n",
    "    data = urlopen(url).read()\n",
    "    data = data.decode('utf-8')\n",
    "\n",
    "    #print(data)\n",
    "\n",
    "    m = re.search('meta name=\"description\" content=\"', data)\n",
    "    start = m.end()\n",
    "    end = start + 300\n",
    "\n",
    "\n",
    "    newString = data[start : end]\n",
    "\n",
    "    #print(newString)\n",
    "\n",
    "    m = re.search(\"See more.\", newString)\n",
    "\n",
    "    end = m.start() - 1\n",
    "\n",
    "    defination = newString[0 : end]\n",
    "\n",
    "    print(defination)\n",
    "    \n",
    "except : \n",
    "    print(\"Your word isn\\'t in dictionary\")"
   ]
  },
  {
   "cell_type": "markdown",
   "metadata": {},
   "source": [
    "# part_01-Beautiful Soap Module"
   ]
  },
  {
   "cell_type": "code",
   "execution_count": 41,
   "metadata": {
    "collapsed": false
   },
   "outputs": [
    {
     "name": "stdout",
     "output_type": "stream",
     "text": [
      "<html>\n",
      " <p>\n",
      "  hello world\n",
      " </p>\n",
      "</html>\n"
     ]
    }
   ],
   "source": [
    "soup = BeautifulSoup(\"<html> <p> hello world </p> </html>\", 'html.parser')\n",
    "\n",
    "print(soup.prettify())"
   ]
  },
  {
   "cell_type": "markdown",
   "metadata": {},
   "source": [
    "# Part_02 Beautiful Soap "
   ]
  },
  {
   "cell_type": "code",
   "execution_count": 70,
   "metadata": {
    "collapsed": false
   },
   "outputs": [
    {
     "name": "stdout",
     "output_type": "stream",
     "text": [
      "<a>facebook</a>\n"
     ]
    }
   ],
   "source": [
    "# url = urlopen('https://google.com')\n",
    "\n",
    "# soup = BeautifulSoup(url.read(), 'html.parser')\n",
    "\n",
    "html_doc = \"\"\"\n",
    "    <html>\n",
    "        <title>Google</title>\n",
    "            <body>\n",
    "                <p>Hello World!</p>\n",
    "                <a>youtuble.com</a>\n",
    "                <a>facebook</a>\n",
    "            </body>\n",
    "    </html>\n",
    "\"\"\"\n",
    "\n",
    "soup = BeautifulSoup(html_doc, 'html.parser')\n",
    "\n",
    "'''\n",
    "print(soup.title)\n",
    "print(soup.head)\n",
    "print(soup.body)\n",
    "print(soup.a) #first link\n",
    "\n",
    "'''\n",
    "array = soup.find_all('a') #all a tag\n",
    "#array = soup.find_all(id='link2') #all a tag\n",
    "#array = soup.find_all('a', id='link2')\n",
    "\n",
    "print(array[1])"
   ]
  },
  {
   "cell_type": "markdown",
   "metadata": {},
   "source": [
    "# Part_03 Beautiful Soap "
   ]
  },
  {
   "cell_type": "code",
   "execution_count": 69,
   "metadata": {
    "collapsed": false
   },
   "outputs": [
    {
     "name": "stdout",
     "output_type": "stream",
     "text": [
      "['Google']\n",
      "\n",
      "\n",
      "<p>Hello World!</p>\n",
      "\n",
      "\n",
      "<a>youtuble.com</a>\n",
      "\n",
      "\n",
      "<a>facebook</a>\n",
      "\n",
      "\n",
      "\n",
      "\n",
      "Hello World!\n",
      "Hello World!\n",
      "\n",
      "\n",
      "youtuble.com\n",
      "youtuble.com\n",
      "\n",
      "\n",
      "facebook\n",
      "facebook\n",
      "\n",
      "\n"
     ]
    }
   ],
   "source": [
    "html_doc = \"\"\"\n",
    "    <html>\n",
    "        <title>Google</title>\n",
    "            <body>\n",
    "                <p>Hello World!</p>\n",
    "                <a>youtuble.com</a>\n",
    "                <a>facebook</a>\n",
    "            </body>\n",
    "    </html>\n",
    "\"\"\"\n",
    "\n",
    "head_tag = soup.title\n",
    "body_tag = soup.body\n",
    "\n",
    "print(head_tag.contents)\n",
    "\n",
    "for i in body_tag.children:\n",
    "    print(i)\n",
    "    \n",
    "    \n",
    "    \n",
    "#separate the p tag and a tag content\n",
    "for i in body_tag.descendants:\n",
    "    print(i.string)"
   ]
  },
  {
   "cell_type": "markdown",
   "metadata": {},
   "source": [
    "# Part_04 Beautiful Soap "
   ]
  },
  {
   "cell_type": "code",
   "execution_count": 76,
   "metadata": {
    "collapsed": false
   },
   "outputs": [
    {
     "name": "stdout",
     "output_type": "stream",
     "text": [
      "body\n",
      "html\n",
      "title\n"
     ]
    }
   ],
   "source": [
    "for tag in soup.find_all(re.compile(\"^b\")) :\n",
    "    print(tag.name)\n",
    "    \n",
    "for tag in soup.find_all(re.compile(\"t\")) : #start with t letter\n",
    "    print(tag.name)\n",
    "    \n",
    "#soup.find_all(href = re.compile(\"hello world\"))\n",
    "#soup.find_all(href = re.compile(\"hello world\"), id = \"link2\")\n",
    "\n"
   ]
  },
  {
   "cell_type": "markdown",
   "metadata": {},
   "source": [
    "# Part_05 Beautiful Soap"
   ]
  },
  {
   "cell_type": "code",
   "execution_count": 88,
   "metadata": {
    "collapsed": false
   },
   "outputs": [
    {
     "name": "stdout",
     "output_type": "stream",
     "text": [
      "<Response [200]>\n",
      "<div><div class=\"gradient\"><div class=\"gradientContent\"><div class=\"clearfix\"><div class=\"lfloat _ohe\"><div class=\"_5iyy\"><div class=\"_5iyx\">Facebook helps you connect and share with the people in your life.</div><img alt=\"\" class=\"img\" height=\"195\" src=\"https://static.xx.fbcdn.net/rsrc.php/v3/yc/r/GwFs3_KxNjS.png\" width=\"537\"/></div></div><div class=\"_5iyz rfloat _ohf\"><div class=\"pvl _52lp _59d-\"><div class=\"mbs _52lq fsl fwb fcb\"><span>Create an account</span></div><div class=\"_52lr fsm fwn fcg\">It's free and always will be.</div></div><div id=\"registration_container\"><div><noscript><div id=\"no_js_box\"><h2>JavaScript is disabled in your browser.</h2><p>Please enable JavaScript in your browser or upgrade to a JavaScript-capable browser to register for Facebook.</p></div></noscript><div class=\"_58mf\"><div class=\"registration_redesign\" id=\"reg_box\"><div><div class=\"hidden_elem _58mn\" id=\"reg_error\" role=\"alert\"><div class=\"_58mo\" id=\"reg_error_inner\" tabindex=\"0\">An error occurred. Please try again.</div></div><form action=\"https://m.facebook.com/reg/\" id=\"reg\" method=\"post\" name=\"reg\" onsubmit=\"return function(event){return false;}.call(this,event)!==false &amp;&amp; window.Event &amp;&amp; Event.__inlineSubmit &amp;&amp; Event.__inlineSubmit(this,event)\"><input autocomplete=\"off\" name=\"lsd\" type=\"hidden\" value=\"AVrNH9NN\"/><div class=\"large_form\" id=\"reg_form_box\"><div class=\"_1ixn\" id=\"fullname_field\"><div class=\"clearfix _58mh\"><div class=\"mbm _1iy_ _a4y _3-90 lfloat _ohe\"><div class=\"_5dbb\" id=\"u_0_k\"><input aria-label=\"First name\" aria-required=\"1\" class=\"inputtext _58mg _5dba _2ph-\" data-type=\"text\" id=\"u_0_l\" name=\"firstname\" placeholder=\"First name\" type=\"text\"/><i class=\"_5dbc img sp_vlIa-KtzX8k sx_49df9c\"></i><i class=\"_5dbd img sp_vlIa-KtzX8k sx_35388b\"></i><div class=\"_1pc_\"></div><div id=\"u_0_6\"></div></div></div><div class=\"mbm _1iy_ _a4y rfloat _ohf\"><div class=\"_5dbb\" id=\"u_0_m\"><input aria-label=\"Surname\" aria-required=\"1\" class=\"inputtext _58mg _5dba _2ph-\" data-type=\"text\" id=\"u_0_n\" name=\"lastname\" placeholder=\"Surname\" type=\"text\"/><i class=\"_5dbc img sp_vlIa-KtzX8k sx_49df9c\"></i><i class=\"_5dbd img sp_vlIa-KtzX8k sx_35388b\"></i><div class=\"_1pc_\"></div><div id=\"u_0_7\"></div></div></div></div><div class=\"_1pc_\" id=\"fullname_error_msg\"></div></div><div class=\"mbm _a4y\" id=\"u_0_o\"><div class=\"_5dbb\" id=\"u_0_p\"><input aria-label=\"Mobile number or email address\" aria-required=\"1\" class=\"inputtext _58mg _5dba _2ph-\" data-type=\"text\" id=\"u_0_q\" name=\"reg_email__\" placeholder=\"Mobile number or email address\" type=\"text\"/><i class=\"_5dbc img sp_vlIa-KtzX8k sx_49df9c\"></i><i class=\"_5dbd img sp_vlIa-KtzX8k sx_35388b\"></i><div class=\"_1pc_\"></div><div id=\"u_0_8\"></div></div></div><div class=\"hidden_elem\" id=\"u_0_r\"><div class=\"mbm _a4y\"><div class=\"_5dbb\" id=\"u_0_s\"><input aria-label=\"Re-enter email address\" aria-required=\"1\" class=\"inputtext _58mg _5dba _2ph-\" data-type=\"text\" id=\"u_0_t\" name=\"reg_email_confirmation__\" placeholder=\"Re-enter email address\" type=\"text\"/><i class=\"_5dbc img sp_vlIa-KtzX8k sx_49df9c\"></i><i class=\"_5dbd img sp_vlIa-KtzX8k sx_35388b\"></i><div class=\"_1pc_\"></div><div id=\"u_0_9\"></div></div></div></div><div class=\"mbm _br- _a4y hidden_elem\" id=\"u_0_u\"><input aria-label=\"Mobile number\" class=\"inputtext _58mg _5dba _2ph-\" data-type=\"text\" id=\"u_0_v\" name=\"reg_second_contactpoint__\" placeholder=\"Mobile number\" type=\"text\"/></div><div class=\"mbm _br- _a4y\" id=\"password_field\"><div class=\"_5dbb\" id=\"u_0_w\"><input aria-label=\"New password\" aria-required=\"1\" autocomplete=\"new-password\" class=\"inputtext _58mg _5dba _2ph-\" data-type=\"password\" id=\"u_0_x\" name=\"reg_passwd__\" placeholder=\"New password\" type=\"password\"/><i class=\"_5dbc img sp_vlIa-KtzX8k sx_49df9c\"></i><i class=\"_5dbd img sp_vlIa-KtzX8k sx_35388b\"></i><div class=\"_1pc_\"></div><div id=\"u_0_a\"></div></div></div><div class=\"_58mq _5dbb\" id=\"u_0_y\"><div class=\"mtm mbs _2_68\">Birthday</div><div class=\"_5k_5\"><span class=\"_5k_4\" data-name=\"birthday_wrapper\" data-type=\"selectors\" id=\"u_0_z\"><span><select aria-label=\"Day\" class=\"_5dba\" id=\"day\" name=\"birthday_day\" title=\"Day\"><option value=\"0\">Day</option><option value=\"1\">1</option><option value=\"2\">2</option><option value=\"3\">3</option><option value=\"4\">4</option><option value=\"5\">5</option><option value=\"6\">6</option><option value=\"7\">7</option><option value=\"8\">8</option><option value=\"9\">9</option><option value=\"10\">10</option><option value=\"11\">11</option><option value=\"12\">12</option><option value=\"13\">13</option><option value=\"14\">14</option><option value=\"15\">15</option><option value=\"16\">16</option><option value=\"17\">17</option><option value=\"18\">18</option><option value=\"19\">19</option><option selected=\"1\" value=\"20\">20</option><option value=\"21\">21</option><option value=\"22\">22</option><option value=\"23\">23</option><option value=\"24\">24</option><option value=\"25\">25</option><option value=\"26\">26</option><option value=\"27\">27</option><option value=\"28\">28</option><option value=\"29\">29</option><option value=\"30\">30</option><option value=\"31\">31</option></select><select aria-label=\"Month\" class=\"_5dba\" id=\"month\" name=\"birthday_month\" title=\"Month\"><option value=\"0\">Month</option><option value=\"1\">Jan</option><option value=\"2\">Feb</option><option value=\"3\">Mar</option><option value=\"4\">Apr</option><option value=\"5\">May</option><option value=\"6\">Jun</option><option value=\"7\">Jul</option><option value=\"8\">Aug</option><option value=\"9\">Sept</option><option value=\"10\">Oct</option><option value=\"11\">Nov</option><option selected=\"1\" value=\"12\">Dec</option></select><select aria-label=\"Year\" class=\"_5dba\" id=\"year\" name=\"birthday_year\" title=\"Year\"><option value=\"0\">Year</option><option value=\"2017\">2017</option><option value=\"2016\">2016</option><option value=\"2015\">2015</option><option value=\"2014\">2014</option><option value=\"2013\">2013</option><option value=\"2012\">2012</option><option value=\"2011\">2011</option><option value=\"2010\">2010</option><option value=\"2009\">2009</option><option value=\"2008\">2008</option><option value=\"2007\">2007</option><option value=\"2006\">2006</option><option value=\"2005\">2005</option><option value=\"2004\">2004</option><option value=\"2003\">2003</option><option value=\"2002\">2002</option><option value=\"2001\">2001</option><option value=\"2000\">2000</option><option value=\"1999\">1999</option><option value=\"1998\">1998</option><option value=\"1997\">1997</option><option value=\"1996\">1996</option><option value=\"1995\">1995</option><option value=\"1994\">1994</option><option value=\"1993\">1993</option><option selected=\"1\" value=\"1992\">1992</option><option value=\"1991\">1991</option><option value=\"1990\">1990</option><option value=\"1989\">1989</option><option value=\"1988\">1988</option><option value=\"1987\">1987</option><option value=\"1986\">1986</option><option value=\"1985\">1985</option><option value=\"1984\">1984</option><option value=\"1983\">1983</option><option value=\"1982\">1982</option><option value=\"1981\">1981</option><option value=\"1980\">1980</option><option value=\"1979\">1979</option><option value=\"1978\">1978</option><option value=\"1977\">1977</option><option value=\"1976\">1976</option><option value=\"1975\">1975</option><option value=\"1974\">1974</option><option value=\"1973\">1973</option><option value=\"1972\">1972</option><option value=\"1971\">1971</option><option value=\"1970\">1970</option><option value=\"1969\">1969</option><option value=\"1968\">1968</option><option value=\"1967\">1967</option><option value=\"1966\">1966</option><option value=\"1965\">1965</option><option value=\"1964\">1964</option><option value=\"1963\">1963</option><option value=\"1962\">1962</option><option value=\"1961\">1961</option><option value=\"1960\">1960</option><option value=\"1959\">1959</option><option value=\"1958\">1958</option><option value=\"1957\">1957</option><option value=\"1956\">1956</option><option value=\"1955\">1955</option><option value=\"1954\">1954</option><option value=\"1953\">1953</option><option value=\"1952\">1952</option><option value=\"1951\">1951</option><option value=\"1950\">1950</option><option value=\"1949\">1949</option><option value=\"1948\">1948</option><option value=\"1947\">1947</option><option value=\"1946\">1946</option><option value=\"1945\">1945</option><option value=\"1944\">1944</option><option value=\"1943\">1943</option><option value=\"1942\">1942</option><option value=\"1941\">1941</option><option value=\"1940\">1940</option><option value=\"1939\">1939</option><option value=\"1938\">1938</option><option value=\"1937\">1937</option><option value=\"1936\">1936</option><option value=\"1935\">1935</option><option value=\"1934\">1934</option><option value=\"1933\">1933</option><option value=\"1932\">1932</option><option value=\"1931\">1931</option><option value=\"1930\">1930</option><option value=\"1929\">1929</option><option value=\"1928\">1928</option><option value=\"1927\">1927</option><option value=\"1926\">1926</option><option value=\"1925\">1925</option><option value=\"1924\">1924</option><option value=\"1923\">1923</option><option value=\"1922\">1922</option><option value=\"1921\">1921</option><option value=\"1920\">1920</option><option value=\"1919\">1919</option><option value=\"1918\">1918</option><option value=\"1917\">1917</option><option value=\"1916\">1916</option><option value=\"1915\">1915</option><option value=\"1914\">1914</option><option value=\"1913\">1913</option><option value=\"1912\">1912</option><option value=\"1911\">1911</option><option value=\"1910\">1910</option><option value=\"1909\">1909</option><option value=\"1908\">1908</option><option value=\"1907\">1907</option><option value=\"1906\">1906</option><option value=\"1905\">1905</option></select></span></span><a ajaxify=\"/help/ajax/reg_birthday/\" class=\"mlm _58ms\" href=\"#\" id=\"birthday-help\" rel=\"async\" role=\"button\" title=\"Click for more information\">Why do I need to provide my date of birth?</a><i class=\"_5dbc _5k_6 img sp_vlIa-KtzX8k sx_49df9c\"></i><i class=\"_5dbd _5k_7 img sp_vlIa-KtzX8k sx_35388b\"></i><div class=\"_1pc_\"></div></div></div><div class=\"mtm _5wa2 _5dbb\" id=\"u_0_10\"><span class=\"_5k_3\" data-name=\"gender_wrapper\" data-type=\"radio\" id=\"u_0_11\"><span class=\"_5k_2 _5dba\"><input id=\"u_0_b\" name=\"sex\" type=\"radio\" value=\"1\"/><label class=\"_58mt\" for=\"u_0_b\">Female</label></span><span class=\"_5k_2 _5dba\"><input id=\"u_0_c\" name=\"sex\" type=\"radio\" value=\"2\"/><label class=\"_58mt\" for=\"u_0_c\">Male</label></span></span><i class=\"_5dbc _5k_6 img sp_vlIa-KtzX8k sx_49df9c\"></i><i class=\"_5dbd _5k_7 img sp_vlIa-KtzX8k sx_35388b\"></i><div class=\"_1pc_\"></div></div><div class=\"_58mu\" data-nocookies=\"1\" id=\"u_0_12\"><p class=\"_58mv\">By clicking Create an account, you agree to our <a href=\"/legal/terms\" id=\"terms-link\" rel=\"nofollow\" target=\"_blank\">Terms</a> and confirm that you have read our <a href=\"/about/privacy\" id=\"privacy-link\" rel=\"nofollow\" target=\"_blank\">Data Policy</a>, including our <a href=\"/policies/cookies/\" id=\"cookie-use-link\" rel=\"nofollow\" target=\"_blank\">Cookie Use Policy</a>. You may receive SMS message notifications from Facebook and can opt out at any time.</p></div><div class=\"clearfix\"><button class=\"_6j mvm _6wk _6wl _58mi _6o _6v\" id=\"u_0_13\" name=\"websubmit\" type=\"submit\">Create an account</button><span class=\"hidden_elem _58ml\" id=\"u_0_14\"><img alt=\"\" class=\"img\" height=\"11\" src=\"https://static.xx.fbcdn.net/rsrc.php/v3/yb/r/GsNJNwuI-UM.gif\" width=\"16\"/></span></div></div><input autocomplete=\"off\" id=\"referrer\" name=\"referrer\" type=\"hidden\" value=\"\"/><input autocomplete=\"off\" id=\"asked_to_login\" name=\"asked_to_login\" type=\"hidden\" value=\"0\"/><input autocomplete=\"off\" id=\"terms\" name=\"terms\" type=\"hidden\" value=\"on\"/><input autocomplete=\"off\" id=\"ns\" name=\"ns\" type=\"hidden\" value=\"0\"/><input autocomplete=\"off\" id=\"ri\" name=\"ri\" type=\"hidden\" value=\"a2b9408d-c5d9-03df-8838-75e861bf9933\"/><input autocomplete=\"off\" id=\"contactpoint_label\" name=\"contactpoint_label\" type=\"hidden\" value=\"email_or_phone\"/><input autocomplete=\"off\" id=\"ignore\" name=\"ignore\" type=\"hidden\" value=\"reg_email_confirmation__|reg_second_contactpoint__\"/><input autocomplete=\"off\" id=\"locale\" name=\"locale\" type=\"hidden\" value=\"en_GB\"/><input autocomplete=\"off\" id=\"reg_instance\" name=\"reg_instance\" type=\"hidden\" value=\"rmQ7WssGXSY9zzKjjvFlsl_J\"/><div class=\"_58mw hidden_elem\" id=\"reg_captcha\"><div><h2 id=\"security_check_header\">Security check</h2><div id=\"outer_captcha_box\"><div id=\"captcha_box\"><div class=\"field_error hidden_elem\" id=\"captcha_response_error\">This field is required.</div><div class=\"captcha\" data-captcha-class=\"ReCaptchaCaptcha\" id=\"captcha\"><input autocomplete=\"off\" id=\"captcha_persist_data\" name=\"captcha_persist_data\" type=\"hidden\" value=\"AZnHXJl2y811KZ9jhG6Eh8jaYaoT7OwxzxC2AtuENQ6boJGGtS5UpxVBkEAarkcL20F14-KmZe0eK8fwIoleuTU_3gL1cWQ42HBE6ZHcPRk0vBmSe1JDIKhXizmvJfFJc3LZyk-DF0EzLxCJpcHMcZ1sZIGrKW4SuGVI2w07IrnuYOiJ4y0TqrJp6ZEAsCR_dug_DvTFkjCA-SrMNH2xVkCmow85BneW6f7sJGQHD6vddxdKv4oagZ-rZ2G05HnP6f8cEuTe9sRBPov39C4RoLEGGaJ2MJsf7UwT8mf0NEF0dYtHnG0iouJIo9csUXBd7tXlNqEH235dc4Cf7W80pt0VOeaEVidMvEWD1AXh3u7uyA\"/><div id=\"recaptcha_scripts\" style=\"display:none\"></div><div><input autocomplete=\"off\" id=\"captcha_session\" name=\"captcha_session\" type=\"hidden\" value=\"3GgzUgwfgxyyQWT3XVavaA\"/><input autocomplete=\"off\" id=\"extra_challenge_params\" name=\"extra_challenge_params\" type=\"hidden\" value=\"authp=nonce.tt.time.new_audio_default&amp;psig=a74dmmRzMNbK2Tj7niHZxJIpPa0&amp;nonce=3GgzUgwfgxyyQWT3XVavaA&amp;tt=f8aHbGtvVps_E9M_ZzD9jPoKfzY&amp;time=1513841838&amp;new_audio_default=1\"/><input autocomplete=\"off\" id=\"recaptcha_type\" name=\"recaptcha_type\" type=\"hidden\" value=\"password\"/></div><div class=\"recaptcha_text\"><div class=\"recaptcha_only_if_image\">Can't read the words below? <a href=\"#\" id=\"recaptcha_reload_btn\" onclick=\"Recaptcha.reload(); return false\" role=\"button\">Try different words</a>.</div><div class=\"recaptcha_only_if_audio\" style=\"display:none\">Please enter the words or numbers you hear.<br/><a href=\"#\" id=\"recaptcha_reload_btn\" onclick=\"Recaptcha.reload(); return false\" role=\"button\">Try different words</a> or <a href=\"#\" onclick='Recaptcha.switch_type(\"image\");\n",
      "                                     return false;' role=\"button\">back to text</a>.</div></div><span id=\"recaptcha_play_audio\"></span><div class=\"audiocaptcha\"></div><div class=\"captcha_image\" id=\"recaptcha_image\"></div><div id=\"recaptcha_loading\">Loading...<img alt=\"\" class=\"captcha_loading img\" height=\"11\" src=\"https://static.xx.fbcdn.net/rsrc.php/v3/yb/r/GsNJNwuI-UM.gif\" width=\"16\"/></div><div class=\"captcha_input\"><label>Enter the text you see above.</label><div class=\"field_container\"><input aria-label=\"Captcha input. Type the words listed above to continue. You may try an audio captcha by clicking the link above. Press captcha play button to play the audio, then enter the spoken words in this field.\" autocomplete=\"off\" class=\"inputtext\" id=\"captcha_response\" name=\"captcha_response\" type=\"text\"/></div><a class=\"mlm\" href=\"#\" onclick=\"CSS.show($('captcha_whats_this')); return false;\" role=\"button\">Why am I seeing this?</a><div class=\"hidden_elem\" id=\"captcha_whats_this\"><div class=\"fsl fwb\">Security Check</div>This is a standard security test that we use to prevent spammers from creating fake accounts and spamming users.</div></div></div></div></div><div class=\"_58p2 clearfix hidden_elem\" id=\"captcha_buttons\"><div class=\"_58mx _58mm\"><div class=\"_58mz\">   </div><a class=\"_58my\" href=\"#\" id=\"u_0_15\" role=\"button\">Back</a></div><div class=\"_58mm\"><div class=\"clearfix\"><button class=\"_6j mvm _6wk _6wl _58me _58mi _6o _6v\" id=\"u_0_16\" type=\"submit\">Sign Up</button><span class=\"hidden_elem _58ml\" id=\"u_0_17\"><img alt=\"\" class=\"img\" height=\"11\" src=\"https://static.xx.fbcdn.net/rsrc.php/v3/yb/r/GsNJNwuI-UM.gif\" width=\"16\"/></span></div></div></div></div></div></form></div><div class=\"_58mk\" id=\"reg_pages_msg\"><a href=\"/pages/create/?ref_type=registration_form\">Create a Page</a> for a celebrity, band or business.</div></div></div></div></div></div></div></div></div></div>\n"
     ]
    }
   ],
   "source": [
    "import requests\n",
    "\n",
    "data = requests.get(\"http://www.facebook.com\")\n",
    "\n",
    "print(data) #response number : 200\n",
    "\n",
    "soup = BeautifulSoup(data.text, 'html.parser')\n",
    "\n",
    "data = soup.find(\"div\", {'class' : 'fb_content clearfix '})\n",
    "\n",
    "print(data.contents[0])"
   ]
  },
  {
   "cell_type": "markdown",
   "metadata": {},
   "source": [
    "# matplotlib"
   ]
  },
  {
   "cell_type": "code",
   "execution_count": 117,
   "metadata": {
    "collapsed": false
   },
   "outputs": [
    {
     "data": {
      "image/png": "[encoded data removed]",
      "text/plain": [
       "<matplotlib.figure.Figure at 0x7f0b571526d8>"
      ]
     },
     "metadata": {},
     "output_type": "display_data"
    }
   ],
   "source": [
    "from mpl_toolkits.mplot3d import axes3d\n",
    "import matplotlib.pyplot as plt\n",
    "\n",
    "\n",
    "fig = plt.figure()\n",
    "ax = fig.add_subplot(111, projection='3d')\n",
    "\n",
    "# Grab some test data.\n",
    "X, Y, Z = axes3d.get_test_data(0.05)\n",
    "\n",
    "# Plot a basic wireframe.\n",
    "ax.plot_wireframe(X, Y, Z, rstride=10, cstride=10)\n",
    "\n",
    "plt.show()\n",
    "\n"
   ]
  },
  {
   "cell_type": "code",
   "execution_count": null,
   "metadata": {
    "collapsed": true
   },
   "outputs": [],
   "source": []
  }
 ],
 "metadata": {
  "anaconda-cloud": {},
  "kernelspec": {
   "display_name": "Python [conda root]",
   "language": "python",
   "name": "conda-root-py"
  },
  "language_info": {
   "codemirror_mode": {
    "name": "ipython",
    "version": 3
   },
   "file_extension": ".py",
   "mimetype": "text/x-python",
   "name": "python",
   "nbconvert_exporter": "python",
   "pygments_lexer": "ipython3",
   "version": "3.5.2"
  }
 },
 "nbformat": 4,
 "nbformat_minor": 1
}
